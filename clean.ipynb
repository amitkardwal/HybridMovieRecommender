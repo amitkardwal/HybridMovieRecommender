{
 "cells": [
  {
   "cell_type": "code",
   "execution_count": 5,
   "id": "0ba926f1",
   "metadata": {},
   "outputs": [
    {
     "name": "stdout",
     "output_type": "stream",
     "text": [
      "✅ Cleaned and saved to 'cleaned_ratings.json'\n"
     ]
    }
   ],
   "source": [
    "import json\n",
    "\n",
    "cleaned_ratings = {}\n",
    "\n",
    "with open(\"indian movie data/ratings.json\", \"r\", encoding=\"utf-8\") as f:\n",
    "    for line in f:\n",
    "        try:\n",
    "            record = json.loads(line.strip())\n",
    "            for user_id, ratings in record.items():\n",
    "                if user_id.lower().startswith(\"submit\") or not isinstance(ratings, dict):\n",
    "                    continue\n",
    "\n",
    "                valid_ratings = {}\n",
    "                for movie_id, rating in ratings.items():\n",
    "                    try:\n",
    "                        # Only convert if rating is str/int/float (not list/dict/etc.)\n",
    "                        if isinstance(rating, (int, float, str)) and not isinstance(rating, bool):\n",
    "                            valid_ratings[movie_id] = int(float(rating))  # convert string like \"4\" to int\n",
    "                    except:\n",
    "                        continue\n",
    "\n",
    "                if valid_ratings:\n",
    "                    cleaned_ratings[user_id] = valid_ratings\n",
    "\n",
    "        except json.JSONDecodeError:\n",
    "            continue\n",
    "\n",
    "# Save the cleaned JSON\n",
    "with open(\"indian movie data/cleaned_ratings.json\", \"w\", encoding=\"utf-8\") as f:\n",
    "    json.dump(cleaned_ratings, f, indent=4)\n",
    "\n",
    "print(\"✅ Cleaned and saved to 'cleaned_ratings.json'\")\n"
   ]
  },
  {
   "cell_type": "code",
   "execution_count": 11,
   "id": "61138d03",
   "metadata": {},
   "outputs": [
    {
     "name": "stdout",
     "output_type": "stream",
     "text": [
      "Available columns: ['_id', 'rating', 'movie_id', 'description', 'language', 'released', 'rating_cnt', 'writer', 'director', 'cast', 'img_src', 'genre', 'inserted', 'name']\n",
      "                                    _id  rating   movie_id  \\\n",
      "0  {'$oid': '581994c40ad09b0701a0e727'}     7.9  tt5286444   \n",
      "1  {'$oid': '581994c40ad09b0701a0e728'}     7.9  tt4434004   \n",
      "2  {'$oid': '581994c50ad09b0701a0e729'}     7.5  tt0248126   \n",
      "\n",
      "                                         description                language  \\\n",
      "0  Neerja is the story of the courageous Neerja B...                 [Hindi]   \n",
      "1  A story that revolves around drug abuse in the...        [Hindi, Panjabi]   \n",
      "2  Yashvardhan Raichand lives a very wealthy life...  [Hindi, English, Urdu]   \n",
      "\n",
      "                                    released  rating_cnt  \\\n",
      "0  {'$date': '2016-02-19T05:30:00.000+0530'}           0   \n",
      "1  {'$date': '2016-06-17T05:30:00.000+0530'}           0   \n",
      "2  {'$date': '2001-12-14T05:30:00.000+0530'}           0   \n",
      "\n",
      "                                     writer            director  \\\n",
      "0  [Saiwyn Quadras, Sanyukta Shaikh Chawla]      [Ram Madhvani]   \n",
      "1          [Sudip Sharma, Abhishek Chaubey]  [Abhishek Chaubey]   \n",
      "2              [Karan Johar, Sheena Parikh]       [Karan Johar]   \n",
      "\n",
      "                                                cast  \\\n",
      "0  [Sonam Kapoor, Shabana Azmi, Yogendra Tikku, A...   \n",
      "1  [Alia Bhatt, Shahid Kapoor, Diljit Dosanjh, Ka...   \n",
      "2  [Amitabh Bachchan, Jaya Bhaduri, Shah Rukh Kha...   \n",
      "\n",
      "                                             img_src  \\\n",
      "0  https://images-na.ssl-images-amazon.com/images...   \n",
      "1  https://images-na.ssl-images-amazon.com/images...   \n",
      "2  https://images-na.ssl-images-amazon.com/images...   \n",
      "\n",
      "                          genre                                   inserted  \\\n",
      "0  [Biography, Drama, Thriller]  {'$date': '2016-11-02T18:24:52.889+0530'}   \n",
      "1      [Crime, Drama, Thriller]  {'$date': '2016-11-02T18:24:52.938+0530'}   \n",
      "2     [Drama, Musical, Romance]  {'$date': '2016-11-02T18:24:53.046+0530'}   \n",
      "\n",
      "                          name  \n",
      "0                       Neerja  \n",
      "1                  Udta Punjab  \n",
      "2  Kabhi Khushi Kabhie Gham...  \n",
      "✅ Saved cleaned_movies.json successfully!\n"
     ]
    }
   ],
   "source": [
    "# Step 1: Load JSON Lines correctly\n",
    "import json\n",
    "import pandas as pd\n",
    "\n",
    "movies = []\n",
    "with open(\"indian movie data/movies.json\", \"r\", encoding=\"utf-8\") as f:\n",
    "    for line in f:\n",
    "        try:\n",
    "            movie = json.loads(line)\n",
    "            movies.append(movie)\n",
    "        except json.JSONDecodeError:\n",
    "            continue\n",
    "\n",
    "# Step 2: Convert to DataFrame\n",
    "movies_df = pd.DataFrame(movies)\n",
    "\n",
    "# Step 3: Check what keys/columns are present\n",
    "print(\"Available columns:\", movies_df.columns.tolist())\n",
    "print(movies_df.head(3))\n",
    "# Save the cleaned movies DataFrame as JSON\n",
    "movies_df.to_json(\"cleaned_movies.json\", orient=\"records\", lines=True, force_ascii=False)\n",
    "print(\"✅ Saved cleaned_movies.json successfully!\")\n",
    "\n"
   ]
  },
  {
   "cell_type": "code",
   "execution_count": 16,
   "id": "e08088af",
   "metadata": {},
   "outputs": [
    {
     "name": "stdout",
     "output_type": "stream",
     "text": [
      "Movies: (2850, 14)\n",
      "Ratings: (0, 0)\n"
     ]
    }
   ],
   "source": [
    "import pandas as pd\n",
    "import json\n",
    "\n",
    "# Load cleaned movies\n",
    "with open(\"indian movie data/cleaned_movies.json\", \"r\", encoding=\"utf-8\") as f:\n",
    "    movies = [json.loads(line) for line in f]\n",
    "movies_df = pd.DataFrame(movies)\n",
    "\n",
    "# Load cleaned ratings\n",
    "with open(\"indian movie data/cleaned_ratings.json\", \"r\", encoding=\"utf-8\") as f:\n",
    "    ratings_data = json.load(f)\n",
    "ratings_df = pd.DataFrame(ratings_data)\n",
    "\n",
    "# Confirm\n",
    "print(\"Movies:\", movies_df.shape)\n",
    "print(\"Ratings:\", ratings_df.shape)\n"
   ]
  },
  {
   "cell_type": "code",
   "execution_count": 18,
   "id": "0373d5a2",
   "metadata": {},
   "outputs": [
    {
     "name": "stdout",
     "output_type": "stream",
     "text": [
      "✅ Movies shape: (2850, 14)\n",
      "✅ Ratings shape: (1, 0)\n",
      "\n",
      "🎬 Movie columns: ['_id', 'rating', 'movie_id', 'description', 'language', 'released', 'rating_cnt', 'writer', 'director', 'cast', 'img_src', 'genre', 'inserted', 'name']\n",
      "⭐ Rating columns: []\n"
     ]
    }
   ],
   "source": [
    "import pandas as pd\n",
    "import json\n",
    "\n",
    "# Load cleaned movies\n",
    "with open(\"indian movie data/cleaned_movies.json\", \"r\", encoding=\"utf-8\") as f:\n",
    "    movies_data = [json.loads(line) for line in f]\n",
    "movies_df = pd.DataFrame(movies_data)\n",
    "\n",
    "# Load cleaned ratings\n",
    "with open(\"indian movie data/cleaned_ratings.json\", \"r\", encoding=\"utf-8\") as f:\n",
    "    ratings_data = [json.loads(line) for line in f]\n",
    "ratings_df = pd.DataFrame(ratings_data)\n",
    "\n",
    "# Show shapes\n",
    "print(\"✅ Movies shape:\", movies_df.shape)\n",
    "print(\"✅ Ratings shape:\", ratings_df.shape)\n",
    "\n",
    "# Show columns\n",
    "print(\"\\n🎬 Movie columns:\", list(movies_df.columns))\n",
    "print(\"⭐ Rating columns:\", list(ratings_df.columns))\n"
   ]
  },
  {
   "cell_type": "code",
   "execution_count": 21,
   "id": "81ed2a9f",
   "metadata": {},
   "outputs": [
    {
     "name": "stdout",
     "output_type": "stream",
     "text": [
      "Line 1: { \"_id\" : \"11megha89\", \"rated\" : { \"tt0104561\" : [ \"1\" ], \"tt0323013\" : [ \"1\" ], \"tt2213054\" : [ \"0\" ], \"tt1447508\" : [ \"0\" ], \"tt4505006\" : [ \"0\" ], \"tt0248126\" : [ \"1\" ], \"tt0420332\" : [ \"1\" ], \"tt0284137\" : [ \"1\" ], \"tt0296574\" : [ \"-1\" ], \"tt0367110\" : [ \"1\" ], \"tt2960140\" : [ \"0\" ], \"tt2356180\" : [ \"1\" ], \"tt0306434\" : [ \"1\" ], \"tt0088986\" : [ \"0\" ], \"tt3863552\" : [ \"0\" ], \"tt0116763\" : [ \"0\" ], \"tt1324059\" : [ \"1\" ], \"submit\" : [ \"submit\" ], \"tt3848892\" : [ \"1\" ], \"tt0107166\" : [ \"1\" ], \"tt4900716\" : [ \"1\" ], \"tt5286444\" : [ \"1\" ], \"tt4088588\" : [ \"0\" ], \"tt0110076\" : [ \"1\" ], \"tt1188996\" : [ \"1\" ], \"tt0299108\" : [ \"1\" ] } }\n",
      "Line 2: { \"_id\" : \"9953547227 \", \"rated\" : { \"tt0060689\" : [ \"0\" ], \"tt0375066\" : [ \"0\" ], \"tt0887769\" : [ \"0\" ], \"tt0106333\" : [ \"1\" ], \"tt0056806\" : [ \"0\" ], \"tt0085776\" : [ \"0\" ], \"tt1904875\" : [ \"0\" ], \"tt0316407\" : [ \"0\" ], \"tt0328810\" : [ \"0\" ], \"tt0306434\" : [ \"0\" ], \"tt3261022\" : [ \"1\" ], \"tt0066758\" : [ \"0\" ], \"tt0283005\" : [ \"0\" ], \"tt0072783\" : [ \"0\" ], \"tt0833533\" : [ \"1\" ], \"tt0459293\" : [ \"0\" ], \"submit\" : [ \"submitexit\" ], \"tt2187153\" : [ \"0\" ], \"tt0415144\" : [ \"0\" ], \"tt1620933\" : [ \"-1\" ], \"tt1754920\" : [ \"0\" ] } }\n",
      "Line 3: { \"_id\" : \"ABCDEFGHI JKLM\", \"rated\" : { \"tt0079221\" : [ \"1\" ], \"tt5121000\" : [ \"1\" ], \"tt4900716\" : [ \"1\" ], \"tt4387040\" : [ \"1\" ], \"tt1447508\" : [ \"1\" ], \"tt2377938\" : [ \"1\" ], \"tt0379370\" : [ \"1\" ], \"tt0082162\" : [ \"1\" ], \"submit\" : [ \"submit\" ] } }\n",
      "Line 4: { \"_id\" : \"ANAND\", \"rated\" : { \"tt0070498\" : [ \"0\" ], \"tt0048987\" : [ \"0\" ], \"tt0091598\" : [ \"1\" ], \"tt0255713\" : [ \"1\" ], \"tt4311072\" : [ \"0\" ], \"tt0379375\" : [ \"0\" ], \"tt0100002\" : [ \"1\" ], \"tt0139065\" : [ \"0\" ], \"tt5478254\" : [ \"0\" ], \"tt0290820\" : [ \"0\" ], \"tt3337550\" : [ \"0\" ], \"tt2210576\" : [ \"0\" ], \"tt0157460\" : [ \"1\" ], \"tt0102636\" : [ \"1\" ], \"tt2830226\" : [ \"0\" ], \"tt0360399\" : [ \"0\" ], \"submit\" : [ \"submitexit\" ], \"tt0084840\" : [ \"0\" ], \"tt0116630\" : [ \"0\" ], \"tt1388903\" : [ \"0\" ], \"tt0102701\" : [ \"1\" ] } }\n",
      "Line 5: { \"_id\" : \"Aakanksha\", \"rated\" : { \"tt2191164\" : [ \"0\" ], \"tt0077783\" : [ \"0\" ], \"tt0079938\" : [ \"1\" ], \"tt4949324\" : [ \"0\" ], \"tt0099652\" : [ \"0\" ], \"tt0290326\" : [ \"1\" ], \"tt0222012\" : [ \"0\" ], \"tt0154565\" : [ \"0\" ], \"tt3767372\" : [ \"1\" ], \"tt0215902\" : [ \"0\" ], \"tt0390657\" : [ \"0\" ], \"tt0110076\" : [ \"1\" ], \"submit\" : [ \"submit\" ], \"tt0420517\" : [ \"0\" ], \"tt0477857\" : [ \"0\" ], \"tt5180164\" : [ \"0\" ], \"tt0328810\" : [ \"0\" ], \"tt0085896\" : [ \"0\" ], \"tt0046155\" : [ \"0\" ], \"tt0085743\" : [ \"1\" ], \"tt0232155\" : [ \"0\" ], \"tt5121000\" : [ \"1\" ], \"tt0306434\" : [ \"0\" ], \"tt0156690\" : [ \"0\" ], \"tt0109206\" : [ \"1\" ], \"tt0156256\" : [ \"0\" ], \"tt0320792\" : [ \"0\" ], \"tt0047990\" : [ \"1\" ], \"tt1401126\" : [ \"0\" ], \"tt0234070\" : [ \"0\" ], \"tt0345177\" : [ \"0\" ], \"tt0157339\" : [ \"1\" ], \"tt0164538\" : [ \"1\" ], \"tt2951596\" : [ \"0\" ], \"tt5157836\" : [ \"1\" ], \"tt0178186\" : [ \"0\" ], \"tt0405508\" : [ \"1\" ], \"tt0299108\" : [ \"1\" ], \"tt3614516\" : [ \"0\" ], \"tt2338151\" : [ \"1\" ], \"tt1821480\" : [ \"1\" ] } }\n"
     ]
    }
   ],
   "source": [
    "with open(\"indian movie data/ratings.json\", \"r\", encoding=\"utf-8\") as f:\n",
    "    for i, line in enumerate(f):\n",
    "        print(f\"Line {i+1}: {line.strip()}\")\n",
    "        if i == 4:\n",
    "            break  # just print first 5 lines\n"
   ]
  },
  {
   "cell_type": "code",
   "execution_count": 22,
   "id": "59511488",
   "metadata": {},
   "outputs": [
    {
     "name": "stdout",
     "output_type": "stream",
     "text": [
      "✅ Cleaned Ratings shape: (20652, 3)\n",
      "🎯 Sample:\n",
      "      user_id   movie_id  rating\n",
      "0  11megha89  tt0104561       1\n",
      "1  11megha89  tt0323013       1\n",
      "2  11megha89  tt2213054       0\n",
      "3  11megha89  tt1447508       0\n",
      "4  11megha89  tt4505006       0\n"
     ]
    }
   ],
   "source": [
    "import json\n",
    "import pandas as pd\n",
    "\n",
    "# Load the raw nested ratings data\n",
    "with open(\"indian movie data/ratings.json\", \"r\", encoding=\"utf-8\") as f:\n",
    "    raw_lines = f.readlines()\n",
    "\n",
    "cleaned_ratings = []\n",
    "\n",
    "# Iterate through each user rating block\n",
    "for line in raw_lines:\n",
    "    try:\n",
    "        entry = json.loads(line)\n",
    "        user_id = entry.get(\"_id\")\n",
    "        rated = entry.get(\"rated\", {})\n",
    "\n",
    "        # Loop over each rated movie\n",
    "        for movie_id, score_list in rated.items():\n",
    "            if movie_id == \"submit\":  # skip \"submit\": [\"submit\"] entries\n",
    "                continue\n",
    "            try:\n",
    "                score = int(score_list[0])\n",
    "                if score in [0, 1, -1]:\n",
    "                    cleaned_ratings.append({\n",
    "                        \"user_id\": user_id,\n",
    "                        \"movie_id\": movie_id,\n",
    "                        \"rating\": score\n",
    "                    })\n",
    "            except:\n",
    "                continue\n",
    "    except json.JSONDecodeError:\n",
    "        continue\n",
    "\n",
    "# Convert to DataFrame\n",
    "ratings_df = pd.DataFrame(cleaned_ratings)\n",
    "print(\"✅ Cleaned Ratings shape:\", ratings_df.shape)\n",
    "print(\"🎯 Sample:\\n\", ratings_df.head())\n",
    "\n",
    "# Save cleaned version\n",
    "ratings_df.to_json(\"cleaned_ratings.json\", orient=\"records\", lines=True, force_ascii=False)\n"
   ]
  },
  {
   "cell_type": "code",
   "execution_count": 28,
   "id": "e0fd99ce",
   "metadata": {},
   "outputs": [
    {
     "name": "stdout",
     "output_type": "stream",
     "text": [
      "(20652, 3)\n",
      "     user_id   movie_id  rating\n",
      "0  11megha89  tt0104561       1\n",
      "1  11megha89  tt0323013       1\n",
      "2  11megha89  tt2213054       0\n",
      "3  11megha89  tt1447508       0\n",
      "4  11megha89  tt4505006       0\n"
     ]
    }
   ],
   "source": [
    "import pandas as pd\n",
    "\n",
    "# Load cleaned ratings file\n",
    "cleaned_ratings = pd.read_json(\"indian movie data/cleaned_ratings.json\",lines=True)\n",
    "print(cleaned_ratings.shape)\n",
    "print(cleaned_ratings.head())\n"
   ]
  },
  {
   "cell_type": "code",
   "execution_count": null,
   "id": "719c1903",
   "metadata": {},
   "outputs": [],
   "source": []
  }
 ],
 "metadata": {
  "kernelspec": {
   "display_name": "venv_lightfm",
   "language": "python",
   "name": "python3"
  },
  "language_info": {
   "codemirror_mode": {
    "name": "ipython",
    "version": 3
   },
   "file_extension": ".py",
   "mimetype": "text/x-python",
   "name": "python",
   "nbconvert_exporter": "python",
   "pygments_lexer": "ipython3",
   "version": "3.11.0"
  }
 },
 "nbformat": 4,
 "nbformat_minor": 5
}
